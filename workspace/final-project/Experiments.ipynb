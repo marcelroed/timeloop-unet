{
 "cells": [
  {
   "cell_type": "code",
   "execution_count": null,
   "id": "028801b9",
   "metadata": {},
   "outputs": [],
   "source": [
    "%load_ext autoreload\n",
    "%autoreload 2\n",
    "\n",
    "import pandas as pd\n",
    "import numpy as np\n",
    "from pathlib import Path\n",
    "from tqdm.auto import trange\n",
    "\n",
    "from loaders import *"
   ]
  },
  {
   "cell_type": "markdown",
   "id": "7c22959d",
   "metadata": {},
   "source": [
    "## UNET across multiple architectures"
   ]
  },
  {
   "cell_type": "code",
   "execution_count": null,
   "id": "8157333e",
   "metadata": {
    "scrolled": true
   },
   "outputs": [],
   "source": [
    "for layer_id in trange(1, 24):\n",
    "    run_dirname = f\"eyeriss_unet/layer_{layer_id}\"\n",
    "\n",
    "    run_path = Path(\"runs\")/run_dirname\n",
    "    run_path.mkdir(parents=True, exist_ok=True)\n",
    "\n",
    "    # Dont forget .. to account for the cd into the run dir\n",
    "    ARCHE_PATH  = Path(\"../../../example_designs/eyeriss_like\")\n",
    "    MODEL_PATH  = Path(f\"../../../layer_shapes/UNET/unet_layer{layer_id}.yaml\")\n",
    "\n",
    "    !(cd {run_path} &&\\\n",
    "      timeloop-mapper\\\n",
    "        {ARCHE_PATH / \"arch/eyeriss_like.yaml\"}\\\n",
    "        {ARCHE_PATH / \"arch/components/*.yaml\"}\\\n",
    "        {MODEL_PATH}\\\n",
    "        {ARCHE_PATH / \"constraints/eyeriss_like_arch_constraints.yaml\"}\\\n",
    "        {ARCHE_PATH / \"mapper/mapper.yaml\"}\\\n",
    "    )"
   ]
  },
  {
   "cell_type": "markdown",
   "id": "4e9ebd96",
   "metadata": {},
   "source": [
    "## UNET vs AlexNet vs VGGxx on eyeriss"
   ]
  },
  {
   "cell_type": "markdown",
   "id": "57758028",
   "metadata": {},
   "source": [
    "## UNET timeploop vs UNET on real 3090"
   ]
  },
  {
   "cell_type": "code",
   "execution_count": null,
   "id": "744f03c9",
   "metadata": {},
   "outputs": [],
   "source": []
  }
 ],
 "metadata": {
  "kernelspec": {
   "display_name": "Python 3 (ipykernel)",
   "language": "python",
   "name": "python3"
  },
  "language_info": {
   "codemirror_mode": {
    "name": "ipython",
    "version": 3
   },
   "file_extension": ".py",
   "mimetype": "text/x-python",
   "name": "python",
   "nbconvert_exporter": "python",
   "pygments_lexer": "ipython3",
   "version": "3.8.10"
  }
 },
 "nbformat": 4,
 "nbformat_minor": 5
}
