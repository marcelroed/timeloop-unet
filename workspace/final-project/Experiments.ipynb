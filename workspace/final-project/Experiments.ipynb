{
 "cells": [
  {
   "cell_type": "code",
   "execution_count": 47,
   "id": "028801b9",
   "metadata": {},
   "outputs": [
    {
     "name": "stdout",
     "output_type": "stream",
     "text": [
      "The autoreload extension is already loaded. To reload it, use:\n",
      "  %reload_ext autoreload\n"
     ]
    }
   ],
   "source": [
    "%load_ext autoreload\n",
    "%autoreload 2\n",
    "\n",
    "import pandas as pd\n",
    "import numpy as np\n",
    "from pathlib import Path\n",
    "\n",
    "from loaders import *"
   ]
  },
  {
   "cell_type": "code",
   "execution_count": 48,
   "id": "61dc3fef",
   "metadata": {},
   "outputs": [
    {
     "name": "stdout",
     "output_type": "stream",
     "text": [
      "problem:\n",
      "  instance:\n",
      "    C: 3\n",
      "    Hdilation: 1\n",
      "    Hstride: 1\n",
      "    M: 64\n",
      "    N: 1\n",
      "    P: 224\n",
      "    Q: 224\n",
      "    R: 3\n",
      "    S: 3\n",
      "    Wdilation: 1\n",
      "    Wstride: 1\n",
      "  shape:\n",
      "    coefficients:\n",
      "    - default: 1\n",
      "      name: Wstride\n",
      "    - default: 1\n",
      "      name: Hstride\n",
      "    - default: 1\n",
      "      name: Wdilation\n",
      "    - default: 1\n",
      "      name: Hdilation\n",
      "    data-spaces:\n",
      "    - name: Weights\n",
      "      projection:\n",
      "      - - - C\n",
      "      - - - M\n",
      "      - - - R\n",
      "      - - - S\n",
      "    - name: Inputs\n",
      "      projection:\n",
      "      - - - N\n",
      "      - - - C\n",
      "      - - - R\n",
      "          - Wdilation\n",
      "        - - P\n",
      "          - Wstride\n",
      "      - - - S\n",
      "          - Hdilation\n",
      "        - - Q\n",
      "          - Hstride\n",
      "    - name: Outputs\n",
      "      projection:\n",
      "      - - - N\n",
      "      - - - M\n",
      "      - - - Q\n",
      "      - - - P\n",
      "      read-write: true\n",
      "    dimensions:\n",
      "    - C\n",
      "    - M\n",
      "    - R\n",
      "    - S\n",
      "    - N\n",
      "    - P\n",
      "    - Q\n",
      "    name: conv_layer\n",
      "\n"
     ]
    }
   ],
   "source": [
    "show_config(UNET_PATH / \"unet_layer1.yaml\")"
   ]
  },
  {
   "cell_type": "markdown",
   "id": "7c22959d",
   "metadata": {},
   "source": [
    "## UNET across multiple architectures"
   ]
  },
  {
   "cell_type": "code",
   "execution_count": 51,
   "id": "8157333e",
   "metadata": {
    "scrolled": false
   },
   "outputs": [
    {
     "name": "stdout",
     "output_type": "stream",
     "text": [
      "input file: ../../../example_designs/eyeriss_like/arch/eyeriss_like.yaml\n",
      "input file: ../../../example_designs/eyeriss_like/arch/components/smartbuffer_RF.yaml\n",
      "input file: ../../../example_designs/eyeriss_like/arch/components/smartbuffer_SRAM.yaml\n",
      "input file: ../../../layer_shapes/AlexNet/AlexNet_layer1.yaml\n",
      "input file: ../../../example_designs/eyeriss_like/constraints/eyeriss_like_arch_constraints.yaml\n",
      "input file: ../../../example_designs/eyeriss_like/mapper/mapper.yaml\n",
      "  _______                __                \n",
      " /_  __(_)___ ___  ___  / /___  ____  ____ \n",
      "  / / / / __ `__ \\/ _ \\/ / __ \\/ __ \\/ __ \\\n",
      " / / / / / / / / /  __/ / /_/ / /_/ / /_/ /\n",
      "/_/ /_/_/ /_/ /_/\\___/_/\\____/\\____/ .___/ \n",
      "                                  /_/      \n",
      "\n",
      "Problem configuration complete.\n",
      "execute:/usr/local/bin/accelergy ../../../example_designs/eyeriss_like/arch/eyeriss_like.yaml ../../../example_designs/eyeriss_like/arch/components/smartbuffer_RF.yaml ../../../example_designs/eyeriss_like/arch/components/smartbuffer_SRAM.yaml ../../../layer_shapes/AlexNet/AlexNet_layer1.yaml ../../../example_designs/eyeriss_like/constraints/eyeriss_like_arch_constraints.yaml ../../../example_designs/eyeriss_like/mapper/mapper.yaml --oprefix timeloop-mapper. -o ./ > timeloop-mapper.accelergy.log 2>&1\n",
      "Generate Accelergy ERT (energy reference table) to replace internal energy model.\n",
      "Generate Accelergy ART (area reference table) to replace internal area model.\n",
      "Architecture configuration complete.\n",
      "Sparse optimization configuration complete.\n",
      "Using threads = 8\n",
      "Mapper configuration complete.\n",
      "WARNING: Interpreting 0 to mean full problem dimension instead of residue.\n",
      "WARNING: Interpreting 0 to mean full problem dimension instead of residue.\n",
      "Initializing Index Factorization subspace.\n",
      "  Factorization options along problem dimension C = 4\n",
      "  Factorization options along problem dimension M = 630\n",
      "  Factorization options along problem dimension R = 1\n",
      "  Factorization options along problem dimension S = 1\n",
      "  Factorization options along problem dimension N = 1\n",
      "  Factorization options along problem dimension P = 4\n",
      "  Factorization options along problem dimension Q = 9\n",
      "Mapspace Dimension [IndexFactorization] Size: 90720\n",
      "Mapspace Dimension [LoopPermutation] Size: 128024064000\n",
      "Mapspace Dimension [Spatial] Size: 1\n",
      "Mapspace Dimension [DatatypeBypass] Size: 1\n",
      "Mapspace split! Per-split Mapping Dimension [IndexFactorization] Size: 11340 Residue: 0\n",
      "Mapspace construction complete.\n",
      "Search configuration complete.\n",
      "[  2] Utilization = 0.13 | pJ/Compute =  136.723 | L5[WIO] Q55 M2 - L4[IO] P55 M4 C3 M2X - L3[] Q1 S11Y - L2[I] Q1 - L1[W] R11 - L0[O] M6 \n",
      "[  3] Utilization = 0.13 | pJ/Compute =  137.270 | L5[WIO] C3 Q55 M2 - L4[IO] P55 M4 M2X - L3[] Q1 S11Y - L2[I] Q1 - L1[W] R11 - L0[O] M6 \n",
      "[  7] Utilization = 0.79 | pJ/Compute =    8.062 | L5[WIO] Q5 C3 M4 - L4[IO] P55 Q11 M12X - L3[] Q1 S11Y - L2[I] Q1 - L1[W] R11 - L0[O] M2 \n",
      "[  6] Utilization = 0.79 | pJ/Compute =  136.317 | L5[WIO] M4 Q5 - L4[IO] Q11 P55 C3 M12X - L3[] Q1 S11Y - L2[I] Q1 - L1[W] R11 - L0[O] M2 \n",
      "[  7] Utilization = 0.79 | pJ/Compute =    7.273 | L5[WIO] Q5 M4 C3 - L4[IO] P55 Q11 M12X - L3[] Q1 S11Y - L2[I] Q1 - L1[W] R11 - L0[O] M2 \n",
      "[  3] Utilization = 0.13 | pJ/Compute =   10.096 | L5[WIO] M2 C3 Q55 - L4[IO] M4 P55 M2X - L3[] Q1 S11Y - L2[I] Q1 - L1[W] R11 - L0[O] M6 \n",
      "[  7] Utilization = 0.79 | pJ/Compute =    6.717 | L5[WIO] M4 Q5 C3 - L4[IO] Q11 P55 M12X - L3[] Q1 S11Y - L2[I] Q1 - L1[W] R11 - L0[O] M2 \n",
      "[  2] Utilization = 0.13 | pJ/Compute =  135.756 | L5[WIO] Q55 M2 - L4[IO] C3 P55 M4 M2X - L3[] Q1 S11Y - L2[I] Q1 - L1[W] R11 - L0[O] M6 \n",
      "[  6] Utilization = 0.79 | pJ/Compute =   18.114 | L5[WIO] Q5 M4 - L4[IO] P55 C3 Q11 M12X - L3[] Q1 S11Y - L2[I] Q1 - L1[W] R11 - L0[O] M2 \n",
      "[  2] Utilization = 0.13 | pJ/Compute =    8.582 | L5[WIO] M2 Q55 - L4[IO] C3 M4 P55 M2X - L3[] Q1 S11Y - L2[I] Q1 - L1[W] R11 - L0[O] M6 \n",
      "[  6] Utilization = 0.79 | pJ/Compute =    6.548 | L5[WIO] Q5 M4 - L4[IO] C3 P55 Q11 M12X - L3[] Q1 S11Y - L2[I] Q1 - L1[W] R11 - L0[O] M2 \n",
      "[  3] Utilization = 0.13 | pJ/Compute =    9.299 | L5[WIO] M2 Q55 C3 - L4[IO] M4 P55 M2X - L3[] Q1 S11Y - L2[I] Q1 - L1[W] R11 - L0[O] M6 \n",
      "[  3] Utilization = 0.19 | pJ/Compute =   19.354 | L5[WIO] P55 M4 C3 - L4[IO] M12 Q11 Q5X - L3[] Q1 S11Y - L2[I] Q1 - L1[W] R11 - L0[O] M2 \n",
      "[  3] Utilization = 0.19 | pJ/Compute =   19.146 | L5[WIO] P55 C3 M4 - L4[IO] M12 Q11 Q5X - L3[] Q1 S11Y - L2[I] Q1 - L1[W] R11 - L0[O] M2 \n",
      "[  2] Utilization = 0.19 | pJ/Compute =   17.632 | L5[WIO] P55 M4 - L4[IO] C3 M12 Q11 Q5X - L3[] Q1 S11Y - L2[I] Q1 - L1[W] R11 - L0[O] M2 \n",
      "[  3] Utilization = 0.33 | pJ/Compute =   35.257 | L5[WIO] C3 P55 M4 - L4[IO] Q11 M12 Q5X - L3[] Q1 S11Y - L2[I] Q1 - L1[W] R11 - L0[O] M2 \n",
      "[  2] Utilization = 0.19 | pJ/Compute =   42.413 | L5[WIO] M4 P55 - L4[IO] Q11 M12 C3 Q5X - L3[] Q1 S11Y - L2[I] Q1 - L1[W] R11 - L0[O] M2 \n",
      "[  2] Utilization = 0.33 | pJ/Compute =   33.742 | L5[WIO] P55 M4 - L4[IO] Q11 C3 M12 Q5X - L3[] Q1 S11Y - L2[I] Q1 - L1[W] R11 - L0[O] M2 \n",
      "[  2] Utilization = 0.65 | pJ/Compute =   36.003 | L5[WIO] Q11 M8 P55 - L4[IO] C3 M2X Q5X - L3[] Q1 S11Y - L2[I] Q1 - L1[W] R11 - L0[O] M6 \n",
      "[  2] Utilization = 0.65 | pJ/Compute =   34.500 | L5[WIO] P55 Q11 M8 - L4[IO] C3 M2X Q5X - L3[] Q1 S11Y - L2[I] Q1 - L1[W] R11 - L0[O] M6 \n",
      "[  3] Utilization = 0.65 | pJ/Compute =   34.849 | L5[WIO] C3 P55 Q11 M8 - L4[IO] Q1 M2X Q5X - L3[] Q1 S11Y - L2[I] Q1 - L1[W] R11 - L0[O] M6 \n",
      "[  3] Utilization = 0.65 | pJ/Compute =   10.057 | L5[WIO] M8 Q11 C3 P55 - L4[IO] Q1 M2X Q5X - L3[] Q1 S11Y - L2[I] Q1 - L1[W] R11 - L0[O] M6 \n",
      "[  3] Utilization = 0.65 | pJ/Compute =    9.608 | L5[WIO] M8 C3 Q11 P55 - L4[IO] Q1 M2X Q5X - L3[] Q1 S11Y - L2[I] Q1 - L1[W] R11 - L0[O] M6 \n",
      "[  2] Utilization = 0.65 | pJ/Compute =    6.669 | L5[WIO] P5 M12 - L4[IO] C3 Q11 P11 M2X Q5X - L3[] Q1 S11Y - L2[I] Q1 - L1[W] R11 - L0[O] M4 \n",
      "[  5] STATEMENT: 15000 invalid mappings (15000 fanout, 0 capacity) found since the last valid mapping, terminating search.\n",
      "[  1] STATEMENT: 15000 invalid mappings (15000 fanout, 0 capacity) found since the last valid mapping, terminating search.\n",
      "[  3] Utilization = 0.65 | pJ/Compute =    9.329 | L5[WIO] M12 P5 C3 - L4[IO] Q11 P11 M2X Q5X - L3[] Q1 S11Y - L2[I] Q1 - L1[W] R11 - L0[O] M4 \n",
      "[  3] Utilization = 0.65 | pJ/Compute =    8.183 | L5[WIO] C3 P5 M12 - L4[IO] Q11 P11 M2X Q5X - L3[] Q1 S11Y - L2[I] Q1 - L1[W] R11 - L0[O] M4 \n",
      "[  4] STATEMENT: 15000 invalid mappings (14398 fanout, 602 capacity) found since the last valid mapping, terminating search.\n",
      "[  0] STATEMENT: 15000 invalid mappings (14262 fanout, 738 capacity) found since the last valid mapping, terminating search.\n",
      "[  2] Utilization = 0.65 | pJ/Compute =    6.335 | L5[WIO] P5 M8 - L4[IO] C3 Q11 P11 M2X Q5X - L3[] Q1 S11Y - L2[I] Q1 - L1[W] R11 - L0[O] M6 \n",
      "[  7] Utilization = 0.79 | pJ/Compute =    6.567 | L5[WIO] Q5 M2 C3 - L4[IO] M4 Q11 P55 M12X - L3[] Q1 S11Y - L2[I] Q1 - L1[W] R11 - L0[O] Q1 \n",
      "[  3] Utilization = 0.65 | pJ/Compute =    7.849 | L5[WIO] C3 P5 M8 - L4[IO] Q11 P11 M2X Q5X - L3[] Q1 S11Y - L2[I] Q1 - L1[W] R11 - L0[O] M6 \n",
      "[  2] Utilization = 0.72 | pJ/Compute =   22.000 | L5[WIO] P5 M6 Q5 - L4[IO] M2 P11 C3 Q11X - L3[] Q1 S11Y - L2[I] Q1 - L1[W] R11 - L0[O] M8 \n",
      "[  2] Utilization = 0.72 | pJ/Compute =   20.820 | L5[WIO] P5 Q5 M6 - L4[IO] P11 M2 C3 Q11X - L3[] Q1 S11Y - L2[I] Q1 - L1[W] R11 - L0[O] M8 \n",
      "[  2] Utilization = 0.72 | pJ/Compute =    7.664 | L5[WIO] Q5 P5 M6 - L4[IO] M2 C3 P11 Q11X - L3[] Q1 S11Y - L2[I] Q1 - L1[W] R11 - L0[O] M8 \n",
      "[  3] Utilization = 0.72 | pJ/Compute =    9.178 | L5[WIO] Q5 C3 P5 M6 - L4[IO] M2 P11 Q11X - L3[] Q1 S11Y - L2[I] Q1 - L1[W] R11 - L0[O] M8 \n",
      "[  3] Utilization = 0.72 | pJ/Compute =    9.022 | L5[WIO] P5 Q5 M6 C3 - L4[IO] M2 P11 Q11X - L3[] Q1 S11Y - L2[I] Q1 - L1[W] R11 - L0[O] M8 \n",
      "[  2] Utilization = 0.79 | pJ/Compute =   17.411 | L5[WIO] P5 Q11 - L4[IO] Q5 M2 C3 P11 M12X - L3[] Q1 S11Y - L2[I] Q1 - L1[W] R11 - L0[O] M4 \n",
      "[  2] Utilization = 0.79 | pJ/Compute =    7.987 | L5[WIO] P5 Q11 - L4[IO] M2 C3 Q5 P11 M12X - L3[] Q1 S11Y - L2[I] Q1 - L1[W] R11 - L0[O] M4 \n",
      "[  3] Utilization = 0.79 | pJ/Compute =  135.326 | L5[WIO] Q11 P5 C3 - L4[IO] Q5 P11 M2 M12X - L3[] Q1 S11Y - L2[I] Q1 - L1[W] R11 - L0[O] M4 \n"
     ]
    },
    {
     "name": "stdout",
     "output_type": "stream",
     "text": [
      "[  3] Utilization = 0.79 | pJ/Compute =    9.798 | L5[WIO] C3 Q11 P5 - L4[IO] M2 P11 Q5 M12X - L3[] Q1 S11Y - L2[I] Q1 - L1[W] R11 - L0[O] M4 \n",
      "[  3] Utilization = 0.79 | pJ/Compute =    8.319 | L5[WIO] Q11 P5 C3 - L4[IO] M2 P11 Q5 M12X - L3[] Q1 S11Y - L2[I] Q1 - L1[W] R11 - L0[O] M4 \n",
      "[  3] Utilization = 0.79 | pJ/Compute =    8.061 | L5[WIO] P5 Q11 C3 - L4[IO] M2 Q5 P11 M12X - L3[] Q1 S11Y - L2[I] Q1 - L1[W] R11 - L0[O] M4 \n",
      "[  6] STATEMENT: 3000 suboptimal mappings found since the last upgrade, terminating search.\n",
      "[  7] STATEMENT: 3000 suboptimal mappings found since the last upgrade, terminating search.\n",
      "[  3] STATEMENT: 3000 suboptimal mappings found since the last upgrade, terminating search.\n",
      "[  2] STATEMENT: 3000 suboptimal mappings found since the last upgrade, terminating search.\n",
      "\n",
      "\n",
      "Summary stats for best mapping found by mapper:\n",
      "  Utilization = 0.79 | pJ/Compute =    6.548\n"
     ]
    }
   ],
   "source": [
    "run_dirname = \"eyeriss_unet/layer_1\"\n",
    "\n",
    "run_path = Path(\"runs\")/run_dirname\n",
    "run_path.mkdir(parents=True, exist_ok=True)\n",
    "\n",
    "# Dont forget .. to account for the cd into the run dir\n",
    "ARCHE_PATH  = Path(\"../../../example_designs/eyeriss_like\")\n",
    "MODEL_PATH = Path(\"../../../layer_shapes/AlexNet\")\n",
    "\n",
    "!(cd {run_path} &&\\\n",
    "  timeloop-mapper\\\n",
    "    {ARCHE_PATH / \"arch/eyeriss_like.yaml\"}\\\n",
    "    {ARCHE_PATH / \"arch/components/*.yaml\"}\\\n",
    "    {MODEL_PATH / \"AlexNet_layer1.yaml\"}\\\n",
    "    {ARCHE_PATH / \"constraints/eyeriss_like_arch_constraints.yaml\"}\\\n",
    "    {ARCHE_PATH / \"mapper/mapper.yaml\"}\\\n",
    ")"
   ]
  },
  {
   "cell_type": "markdown",
   "id": "4e9ebd96",
   "metadata": {},
   "source": [
    "## UNET vs AlexNet vs VGGxx on eyeriss"
   ]
  },
  {
   "cell_type": "markdown",
   "id": "57758028",
   "metadata": {},
   "source": [
    "## UNET timeploop vs UNET on real 3090"
   ]
  },
  {
   "cell_type": "code",
   "execution_count": null,
   "id": "744f03c9",
   "metadata": {},
   "outputs": [],
   "source": []
  }
 ],
 "metadata": {
  "kernelspec": {
   "display_name": "Python 3 (ipykernel)",
   "language": "python",
   "name": "python3"
  },
  "language_info": {
   "codemirror_mode": {
    "name": "ipython",
    "version": 3
   },
   "file_extension": ".py",
   "mimetype": "text/x-python",
   "name": "python",
   "nbconvert_exporter": "python",
   "pygments_lexer": "ipython3",
   "version": "3.8.10"
  }
 },
 "nbformat": 4,
 "nbformat_minor": 5
}
